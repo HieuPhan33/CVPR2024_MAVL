{
 "cells": [
  {
   "cell_type": "code",
   "execution_count": null,
   "id": "6018f18e-78b8-42e4-8d33-265b5beafde7",
   "metadata": {},
   "outputs": [],
   "source": [
    "import os\n",
    "import json\n",
    "import openai\n"
   ]
  },
  {
   "cell_type": "code",
   "execution_count": 2,
   "id": "0c9685d3-f88b-4aaa-9f0a-e31504910400",
   "metadata": {},
   "outputs": [],
   "source": [
    "dataset = \"mimic\"\n",
    "openapi_key = ''"
   ]
  },
  {
   "cell_type": "code",
   "execution_count": 3,
   "id": "aa4309fd-ee0b-4c84-9706-4c5a3e47654d",
   "metadata": {},
   "outputs": [],
   "source": [
    "openai.api_key = openapi_key"
   ]
  },
  {
   "cell_type": "code",
   "execution_count": 24,
   "id": "11121019",
   "metadata": {},
   "outputs": [],
   "source": [
    "cls_file = 'mimic_classes.txt'\n",
    "with open(cls_file, \"r\") as f:\n",
    "    classes = f.read().split(\"\\n\")"
   ]
  },
  {
   "cell_type": "code",
   "execution_count": 29,
   "id": "e661b1a4",
   "metadata": {},
   "outputs": [],
   "source": [
    "mapping_classes ={\n",
    "    'pulmonary edema': 'edema',\n",
    "    'peripherally inserted central catheter': 'picc',\n",
    "    'crowding of the bronchovascular structures': 'crowd',\n",
    "    'congestive hear failure': 'chf',\n",
    "    'rare diseases': 'tail_abnorm_obs',\n",
    "    'medical hardware': 'hardware',\n",
    "    'cancer': 'mass',\n",
    "    'pleural effusion': 'effusion',\n",
    "    'congestive heart failure', 'chf'\n",
    "}"
   ]
  },
  {
   "cell_type": "code",
   "execution_count": 68,
   "id": "61e32709",
   "metadata": {},
   "outputs": [],
   "source": [
    "base_prompt = open('visual_prompts.txt', 'r').read()\n",
    "base_prompt"
   ]
  },
  {
   "cell_type": "code",
   "execution_count": null,
   "id": "6e3557a7",
   "metadata": {},
   "outputs": [],
   "source": [
    "## GPT-4\n",
    "\n",
    "feature_dict = {}\n",
    "gpt_model = \"gpt-4\"\n",
    "#gpt_model = \"gpt-3\"\n",
    "for i, label in enumerate(classes):\n",
    "    feature_dict[label] = set()\n",
    "    print(\"\\n\", i, label)\n",
    "    for _ in range(1):\n",
    "        response = openai.ChatCompletion.create(\n",
    "          model=\"gpt-4\",\n",
    "          messages=[\n",
    "            {\n",
    "              \"role\": \"system\",\n",
    "              \"content\": \"You are a radiologist describing recognizable visual features of medical findings to non-medical people.\"\n",
    "            },\n",
    "            {\n",
    "              \"role\": \"user\",\n",
    "              \"content\": \"List the most important features in the chest X-ray for identifying \\\"pneumothorax\\\":\\n\\n-opacity: reduced opacity and increased transparency, often appearing as a dark or black area.\\n-shape and structure: altered lung's structure with partial or complete lung collapse.\\nlocation: often located near the lung's edges or at the lung's apex.\\n-contrast and border clarity: distinct border separating the collapsed lung from the chest wall.\\n-textures: lucent, dark, mottled or hazy appearances.\\n-fluid: no fluid or effusion accumulation.\\n-others: asymmetry between affected and unaffected chest's sides, sharper contrast between the lung and the ribs, and reduced lung volume.\\n\\nList the most important features in the chest X-ray for identifying \\\"emphysema\\\":\\n\\n-opacity: increased transparency in the lung due to damaged air sacs.\\n-shape and structure: larger, irregularly shaped air spaces, creating an open or flattened appearance.\\n-location: often located at lung's upper lobes.\\n-contrast and border clarity: indistinct borders or hazy edges between normal and damaged lung tissue.\\n-textures: holes or \\\"bullae\\\" disrupts the lung's normal texture.\\n-fluid:no fluid accumulation.\\n-others: bullous and over-inflated appearance of the lungs.\\n\\nList the most important features in the chest X-ray for identifying \\\"thicken\\\":\\n\\n-opacity:increased opacity and reduced transparency.\\n-shape and structure: irregular shapes or bulging areas due to thickening or enlargement of structures.\\n-location: vary based on the involved structure.\\n-contrast and border clarity: vary with well-defined or blurred borders.\\n-textures: linear or irregular patterns disrupting normal texture in the vicinity.\\n-fluid: no fluid accumulation or effusion.\\n-others: specific descriptors, e.g., vascular wall thickening, mucosal thickening, provides context about the affected structures.\\n\\nList the most important features in the chest X-ray for identifying \\\"pneumonia\\\":\"\n",
    "            }\n",
    "          ],\n",
    "          temperature=0.7,\n",
    "          max_tokens=256,\n",
    "          top_p=1,\n",
    "          frequency_penalty=0,\n",
    "          presence_penalty=0.0,\n",
    "          stop=[\" Human:\", \" AI:\"]\n",
    "        )\n",
    "        #clean up responses\n",
    "        features = response[\"choices\"][0]['message']['content']\n",
    "        features = features.split(\"\\n-\")\n",
    "        features = [feat.replace(\"\\n\", \"\") for feat in features]\n",
    "        features[0] = features[0].replace(\"-\",\"\", 1)\n",
    "        features = [feat.strip() for feat in features]\n",
    "        features = [feat for feat in features if len(feat)>0]\n",
    "        features = set(features)\n",
    "        feature_dict[label].update(features)\n",
    "    feature_dict[label] = list(feature_dict[label])"
   ]
  },
  {
   "cell_type": "code",
   "execution_count": 10,
   "id": "05f19306-ecdd-4d5b-9556-d8b8b7930eac",
   "metadata": {},
   "outputs": [
    {
     "name": "stdout",
     "output_type": "stream",
     "text": [
      "\n",
      " 0 covid-19\n"
     ]
    }
   ],
   "source": [
    "# GPT-3.5\n",
    "\n",
    "feature_dict = {}\n",
    "#gpt_model = \"gpt-4\"\n",
    "gpt_model = \"text-davinci-003\"\n",
    "#gpt_model = \"gpt-3.5-turbo-0613\"\n",
    "for i, label in enumerate(classes):\n",
    "    feature_dict[label] = set()\n",
    "    print(\"\\n\", i, label)\n",
    "    for _ in range(1):\n",
    "        response = openai.Completion.create(\n",
    "              model= gpt_model,\n",
    "              prompt=base_prompt.format(label),\n",
    "              temperature=0.7,\n",
    "              max_tokens=256,\n",
    "              top_p=1,\n",
    "              frequency_penalty=0,\n",
    "              presence_penalty=0\n",
    "            )\n",
    "        #clean up responses\n",
    "        features = response[\"choices\"][0][\"text\"]\n",
    "        features = features.split(\"\\n-\")\n",
    "        features = [feat.replace(\"\\n\", \"\") for feat in features]\n",
    "        features = [feat.strip() for feat in features]\n",
    "        features = [feat for feat in features if len(feat)>0]\n",
    "        features = set(features)\n",
    "        feature_dict[label].update(features)\n",
    "    feature_dict[label] = sorted(list(feature_dict[label]))"
   ]
  },
  {
   "cell_type": "code",
   "execution_count": 38,
   "id": "e13f17de",
   "metadata": {},
   "outputs": [],
   "source": [
    "feature_dict = {mapping_classes[k] if k in mapping_classes else k: v for k, v in feature_dict.items()}\n"
   ]
  },
  {
   "cell_type": "code",
   "execution_count": 8,
   "id": "bed4f0df",
   "metadata": {},
   "outputs": [
    {
     "data": {
      "text/plain": [
       "{'Covid-19': ['contrast and border clarity: indistinct borders or hazy edges',\n",
       "  'fluid: may be present in some cases',\n",
       "  'location: often in the lower lobes, but can be present in different lobes',\n",
       "  'opacity: increased opacity and reduced transparency',\n",
       "  'others: air bronchograms, vascular thickening, pleural effusions or thickening, and other findings that may suggest Covid-19 infection',\n",
       "  'shape and structure: diffuse ground-glass opacities, often in peripheral and lower lung regions',\n",
       "  'textures: reticulations, nodules, and/or consolidation']}"
      ]
     },
     "execution_count": 8,
     "metadata": {},
     "output_type": "execute_result"
    }
   ],
   "source": [
    "feature_dict"
   ]
  },
  {
   "cell_type": "code",
   "execution_count": 39,
   "id": "c033c81e-530b-4b62-967c-722f90636187",
   "metadata": {},
   "outputs": [],
   "source": [
    "json_object = json.dumps(feature_dict, indent=4)\n",
    "with open(\"gpt_{}.json\".format(dataset, prompt_type), \"w\") as outfile:\n",
    "    outfile.write(json_object)"
   ]
  }
 ],
 "metadata": {
  "kernelspec": {
   "display_name": "pytorch_1_10",
   "language": "python",
   "name": "python3"
  },
  "language_info": {
   "codemirror_mode": {
    "name": "ipython",
    "version": 3
   },
   "file_extension": ".py",
   "mimetype": "text/x-python",
   "name": "python",
   "nbconvert_exporter": "python",
   "pygments_lexer": "ipython3",
   "version": "3.8.12"
  }
 },
 "nbformat": 4,
 "nbformat_minor": 5
}
